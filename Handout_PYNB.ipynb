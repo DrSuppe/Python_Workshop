{
 "cells": [
  {
   "cell_type": "markdown",
   "id": "c3a60e57",
   "metadata": {},
   "source": [
    "# Python Workshop\n",
    "## Allgemeines: ich mache einen Test\n",
    "Python ist eine höhere interpreter Programmiersprache und ist sehr weit verbreitet (wissenschaftliche Anwendungen, Google, Civilization IV, etc.). Python hat den Ruf  schön übersichtlich und leicht erlernbar zu sein. \n",
    "Im Vergleich zu anderen (besonders Compiler-) Programmiersprachen wie zum Beispiel C ist Python zwar eher langsam, allerdings sind viele Python Bibliotheken in C geschrieben. Dadurch nähert sich Python bei größeren Projekte der Rechengeschwindigkeit von C an.\n",
    "Es gibt Außerdem eine sehr große Anzahl von Bibliotheken für Python, mit denen man fast alles machen kann (Es gibt wirklich für jeden Schwachsinn eine Bibliothek).\n",
    "\n",
    "**Grundlagen**\n",
    "- Strukturierung des Codes passiert durch das Einrücken von Blöcken (nicht Klammern oder Schlusszeichen).\n",
    "\n",
    "- Man muss Datentypen nicht explizit definieren. Python erkennt den Datentyp aus der deklarierung heraus.\n",
    "\n",
    "**Code Komponenten von Python**\n",
    "- **Variable** als Speicherplatz für Informationen z.B meineVariable = 1\n",
    "\n",
    "- **Arrays/Listen** - eine Liste von Variablen - Sind auch nur ein spezieller Typ an Variablen.\n",
    "\n",
    "- **If-Schleifen** um “wenn-dann” Logik zu erzeugen\n",
    "\n",
    "- **For-Schleifen** um über bestimmte Größen zu iterieren\n",
    "\n",
    "- **While-Schleifen** für viele Wiederholungen (man kann auch aus While-Schleifen for - Schleifen basteln)\n",
    "\n",
    "- **Funktionen** - fassen eine Ansammlung von logischen Befehlen zu einem eigens definierten Befehl/Code-Block zusammen"
   ]
  },
  {
   "cell_type": "markdown",
   "id": "21c95761",
   "metadata": {},
   "source": [
    "# Pycharm\n",
    "\n",
    "PyCharm ist eine integrierte Entwicklungsumgebung. Das heisst PyCharm soll eine möglichst vollständige Entwicklung in nur einem Programm ermöglichen.\n",
    " Man kann also (fast) alles, was für die Entwicklung von Softwareprojekten braucht, in PyCharm finden\n",
    "\n",
    "- Installation von Bibliotheken - verwenden von umfangreichen AddOnns\n",
    "\n",
    "\n",
    "- Interpreter - auswählen, auf welche Art und Weise der Code interpretiert werden soll\n",
    "\n",
    "\n",
    "- VersionsControlSystem - Ist eine interne Versionsverwaltung. Ermöglicht es einem auf vorherige Versionen zurückzugreifen, wenn etwas kaputt geht.\n",
    "\n",
    "\n",
    "- Viele weitere praktische Sache\n",
    "    - Refactor - umbenennung einer Variablen an allen verwendeten Orten\n",
    "\n",
    "    - Ergänzungsvorschläge von angefangenen Ausdrücken\n",
    "\n",
    "    - Duplikatsuche\n",
    "\n",
    "    - etc.\n",
    "\n",
    "Um PyCharm zu lernen gibt es sowohl Python Kurse von DataCamp (https://www.datacamp.com/onboarding ),\n",
    "als auch eine Dokumentation von PyCharm (https://www.jetbrains.com/help/pycharm/quick-start-guide.html).\n",
    "In der EDU Version von PyCharm gibt es auch einen integrierten Kurs, der einem die Grundlagen beibringt\n",
    " (https://blog.jetbrains.com/pycharm/2017/04/adaptive-python-course/ )."
   ]
  },
  {
   "cell_type": "markdown",
   "id": "008044cc",
   "metadata": {
    "pycharm": {
     "name": "#%% md\n"
    }
   },
   "source": [
    " # Conway's Game of Life:\n",
    " Conway‘s game of life ist eine Art Simulation. Es besteht aus einer 2D Welt, die in Zellen aufgeteilt ist. Vergleichbar mit einem Karierten Papier, wo jedes Kästchen eine Zelle ist. Jede Zelle kann 2 verschieden Stadien einnehmen: lebendig oder tot. In dieser Zellenwelt wird für jeden Zeitschritt für jede Zelle neu bestimmt, ob sie lebendig bleibt, stirbt, tot bleibt oder zum Leben erwacht. Um das zu bestimmen gibt es im game of life vier Regeln:\n",
    "\n",
    " - Eine tote Zelle mit genau drei Nachbarn wird im nächsten Zeitschritt um leben erweckt.\n",
    "\n",
    " - Eine lebendige Zelle mit weniger als zwei Nachbarn stirbt im nächsten Zeitschritt an Einsamkeit.\n",
    "\n",
    " - Ein lebendige Zelle mit zwei oder drei Nachbarn bleibt am leben.\n",
    "\n",
    " - Eine lebendige Zelle mit mehr als drei Nachbarn stirbt an Überbevölkerung.\n",
    "\n",
    "Mit diesen vier Regeln können ziemlich komplexe Strukturen entstehen, wie man in dem kleinen GIF vielleicht im Ansatz sehen kann.\n",
    "\n",
    "![Game of Life](Gospers_glider_gun.gif)"
   ]
  },
  {
   "cell_type": "markdown",
   "id": "c7d83566",
   "metadata": {
    "pycharm": {
     "name": "#%% md\n"
    }
   },
   "source": [
    "# Tipps\n",
    "Wir sind auch definitiv keine Profis, was das Programmieren angeht, aber wir haben ein wenig Erfahrung damit. Die Tipps können einem erfahrungsgemäß viel Nerven sparen.\n",
    "\n",
    "- Umlaute vermeiden - Die sorgen regelmäßig für Fehler.\n",
    "\n",
    "- Konsistenz in der Namensgebung. Zum Beispiel alle Variablen groß, alle Funktionen klein beginnen. Bei zusammengesetzten Wörtern alle neuen Wörter groß beginnen. z. B. myNewFunction, MyNewVariable\n",
    "\n",
    "- Fehlermeldungen lesen lohnt sich. Auch wenn man sie nicht versteht, bekommt man vielleicht eine Idee von dem Problem.Und vor Allem dem Ort des Problems.\n",
    "\n",
    "- Google hat die Antwort auf alles. Googlen (am besten auf englisch) ist meist der effektivste Weg um Probleme zu lösen.\n",
    "\n",
    "\n",
    "- Einfach ausprobieren ist sehr lehrreich.\n",
    "\n",
    "\n",
    "- Abspeichern - regelmäßig (auch wenn er das meist automatisch macht).\n",
    "\n",
    "\n",
    "- Der Computer hat (nahezu) immer Recht … leider.\n",
    "\n",
    "\n",
    "- Bevor man mit direkt mit dem Programmieren anfängt lohnt es sich einmal vor ein weißes Blatt Papier zu setzen und sich die Struktur des Programms aufzuschreiben.\n",
    "  Das spart einem häufig viele Anpassungen im Code.\n"
   ]
  },
  {
   "cell_type": "markdown",
   "id": "c3a2ef23",
   "metadata": {
    "pycharm": {
     "name": "#%% md\n"
    }
   },
   "source": [
    "**bevor wir mit dem Programmieren vom Game-of-Life beginnen wir mit einer kleinen Einführung in das Programmieren mit Python**"
   ]
  },
  {
   "cell_type": "markdown",
   "id": "a41e4bff",
   "metadata": {
    "pycharm": {
     "name": "#%% md\n"
    }
   },
   "source": [
    "# Variablen Deklaration\n",
    "Die Datentypen werden von Python automatisch erkannt. Erstele ein paar Variablen nach dem Schema ``Variablenname = Wert``.\n",
    "\n",
    "Bsp.:\n",
    "\n",
    "``meineName = 'Vorname Nachname'``"
   ]
  },
  {
   "cell_type": "markdown",
   "id": "c52a84d7",
   "metadata": {
    "pycharm": {
     "name": "#%% md\n"
    }
   },
   "source": [
    "Lasse dir anschließend die Datentypen mit der Funkion *type(Variablenname)* ausgeben\n",
    "\n",
    "Probiere verschiedene Variablentypen aus (ganze Zahl, fließkomma Zahl, Zeichenkette, Wahrheitswert,  ...)\n",
    "\n",
    "**code schreiben:**"
   ]
  },
  {
   "cell_type": "code",
   "execution_count": null,
   "id": "d6cf8ebf",
   "metadata": {},
   "outputs": [],
   "source": [
    "# hier kannst du deine Variablen erstellen\n",
    " '''\n",
    " Konsolenausgaben kannst du mit dem Befehl print() umsetzen\n",
    " print(i) würde die Variable i ausgeben\n",
    " Es lassen sich auch mehrere Werte mit einem print() Befehl ausgeben\n",
    " Dafür trennt man die einzelnen Ausgaben mit einem Komma\n",
    " print('i ist: ', i, 'das Quadrat von i ist: ', q)\n",
    " '''\n"
   ]
  },
  {
   "cell_type": "markdown",
   "id": "b92ae704",
   "metadata": {
    "pycharm": {
     "name": "#%% md\n"
    }
   },
   "source": [
    "Anmerkungen:\n",
    "- mit dem ``#`` -Zeichen lassen sich einzeilige Kommentare in den Code einbauen\n",
    "- Man kann einen ganzen Code-Block auskommentieren indem man ``'''`` davor und danach verwendet\n",
    "\n",
    "```\n",
    "'''\n",
    "Dies\n",
    "\n",
    "ist\n",
    "\n",
    "ein\n",
    "\n",
    "mehrzeilieger\n",
    "\n",
    "Kommentar\n",
    "'''\n",
    "```"
   ]
  },
  {
   "cell_type": "markdown",
   "id": "67f8ed57",
   "metadata": {
    "pycharm": {
     "name": "#%% md\n"
    }
   },
   "source": [
    "# Wahrheitsausdrücke\n",
    "Oft verwendet man Abgleiche oder Wahrheitsausdrücke für verschiedenste Abfragen und Verzweigungen im Programm.\n",
    "Dabei gibt es verschiedene Methoden solche Wahrheitsabfragen zu implementieren.\n",
    "Dabei wird immer entweder ``true`` oder ``false`` zurück gegeben.\n",
    "\n",
    "- Wahrheitsabfrage - `` X == Y`` - ist X gleich Y?\n",
    "\n",
    "- Unwahrheitsabfrage - `` X != Y `` - ist X ungleich Y?\n",
    "\n",
    "- Kombination von Wahrheitsabfragen\n",
    "    - **und** Abfrage  `` X == Y and Z == V`` -  ist X gleich Y **und** Z gleich V?\n",
    "\n",
    "    beide Ausdrücke müssen stimmen damit ``true`` zurück gegeben wird.\n",
    "\n",
    "    - **oder** Abfrage `` X == Y or Z == V`` - ist X gleich Y **oder** Z gleich V ?\n",
    "\n",
    "    mindestens einer der beiden Ausdrücke muss stimmen damit ``true`` zurück gegeben wird.\n",
    "\n",
    "\n",
    "Erstellt hier vier Variablen und probiert es selber aus. Variiert die werte und guckt wie sich die Ausgaben ändern.\n",
    "\n",
    "**code schreiben:**"
   ]
  },
  {
   "cell_type": "code",
   "execution_count": null,
   "id": "aa17088d",
   "metadata": {
    "pycharm": {
     "name": "#%%\n"
    }
   },
   "outputs": [],
   "source": [
    "# erstellt hier die vier Variablen\n",
    "\n",
    "\n",
    "# erstellt hierr die verschiedenen Abfragen\n"
   ]
  },
  {
   "cell_type": "markdown",
   "id": "b350cb76",
   "metadata": {
    "pycharm": {
     "name": "#%% md\n"
    }
   },
   "source": [
    "# If-Bedingung\n",
    "mit If-Bedingungen lassen sich Code-Blöcke ausführen wenn bestimmte Wahrheitsabfragen erfüllt sind.\n",
    "Dadurch lassen sich Verzweigungen in Programme einbauen.\n",
    "\n",
    "Der Prinzipielle Aufbau einer If-Bedingung ist wie folgt:\n",
    "\n",
    "```\n",
    "if (wahrheitsausdruck):\n",
    "    Auszuführender Code\n",
    "```"
   ]
  },
  {
   "cell_type": "markdown",
   "id": "dd01adbc",
   "metadata": {
    "pycharm": {
     "name": "#%% md\n"
    }
   },
   "source": [
    "Es lassen sich auch mehrere If-Bedingungen aneinander hängen, damit diese nacheinander geprüft werden.\n",
    "\n",
    "Der Aufbau davon lautet wie folgt:\n",
    "\n",
    "```\n",
    "if (Wahrheitsausdruck1):\n",
    "    Codeblock1\n",
    "elif (Wahreitsausdruck2):\n",
    "    Codeblock2\n",
    "```"
   ]
  },
  {
   "cell_type": "markdown",
   "id": "f0aee173",
   "metadata": {
    "pycharm": {
     "name": "#%% md\n"
    }
   },
   "source": [
    "Zusätzlich lässt sich auch ein Codeblock einfügen, der ausgeführt wird wenn keine der Bedingungen wahr ist.\n",
    "Dafür wird das Stichwort `` else`` verwendet.\n",
    "\n",
    "Der Aufbau lautet wie folgt:\n",
    "\n",
    "```\n",
    "if (Wahrheitsausdruck2):\n",
    "    Codeblock2\n",
    "elif (Wahrheitsausdruck3):\n",
    "    Codeblock3\n",
    "else:\n",
    "    defaultCodeblock\n",
    "```"
   ]
  },
  {
   "cell_type": "markdown",
   "id": "5191fedd",
   "metadata": {
    "pycharm": {
     "name": "#%% md\n"
    }
   },
   "source": [
    "Veruche einmal ein paar verzweigte bedingungen mit den Variablen zu machen, die du vorhin erstellt hast.\n",
    "\n",
    "**code schreiben:**"
   ]
  },
  {
   "cell_type": "code",
   "execution_count": null,
   "id": "64432507",
   "metadata": {
    "pycharm": {
     "name": "#%%\n"
    }
   },
   "outputs": [],
   "source": [
    "# erstelle hier ein paar Variablen die Du gleich in den If-Bedingungen verwendest\n",
    "\n",
    "\n",
    "# erstelle hier die verzweigte If-Bedingung\n",
    "# probiere auch gerne mal die gekoppelten Bedingungen mit \"and\" und \"or\" aus\n",
    "\n"
   ]
  },
  {
   "cell_type": "markdown",
   "id": "e82af780",
   "metadata": {
    "pycharm": {
     "name": "#%% md\n"
    }
   },
   "source": [
    "# Arrays/Listen\n",
    "Ein Array, bzw. eine Liste ist ein Variable in der mehrere Werte gespeichert werden können.\n",
    "Ein Array wird wie folgt erstellt:\n",
    "\n",
    "`` Zahlen = [1, 2, 3, 4] ``\n",
    "\n",
    "Dabei kann man auf die einzelnen Werte nach dem folgenden Schema zugreifen:\n",
    "\n",
    "``Zahlen [index]``\n",
    "\n",
    "Mit dem Index ist die Position des Wertes in dem Arry gemeint.\n",
    "Eine Besonderheit bei Arrays ist, dass man bei dem Index 0 mit dem Zählen beginnt.\n",
    "\n",
    "``Zahlen[0]``würde also die Zahl ``1`` zurück geben.\n",
    "\n",
    "Mit der Funktion ``append()`` lassen sich elemente an ein Array anhängen.\n",
    "Mit der Funktion ``pop(index)`` lässt sich das Element and der Stelle ``index`` entfernen.\n",
    "Sie können nach dem folgenden Schema verwendet werden:\n",
    "\n",
    "**code testen:**"
   ]
  },
  {
   "cell_type": "code",
   "execution_count": null,
   "id": "4cc04b5c",
   "metadata": {
    "pycharm": {
     "name": "#%%\n"
    }
   },
   "outputs": [],
   "source": [
    "meinArray = [1, 2, 3, 4, 5, 6, 7, 8]\n",
    "\n",
    "meinArray.append(9)\n",
    "\n",
    "# print() wird hier verwendet um eine Konsolenausgabe zu machen\n",
    "print(meinArray)\n",
    "\n",
    "meinArray.pop(3)\n",
    "\n",
    "print(meinArray)"
   ]
  },
  {
   "cell_type": "markdown",
   "id": "86924acd",
   "metadata": {
    "pycharm": {
     "name": "#%% md\n"
    }
   },
   "source": [
    "Es lassen sich auch merhdimensionale Arrays erstellen indem man Arrays verschachtelt.\n",
    "So lässt sich ein zweidimensionales Array beispielsweise nach folgendem Schema erstellen:\n",
    "\n",
    "``meinZweiDArray = [[1, 2], [3, 4]] ``\n",
    "\n",
    "Hier lassen sich die Einträge nach dem selben Prinzip wie bei einem eindimensionalen Array adressieren.\n",
    "Möchte ich also anstelle der ``2`` eine `` 15`` dort stehen haben ändere ich den Wert nach folgendem Schema:\n",
    "\n",
    "`` meinZweiDArray[0][1] = 15 ``\n",
    "\n",
    "Erstelle nun selber ein mehrdimensionales Array und versuche ein paar der Werte zu ändern.\n",
    "\n",
    "**code schreiben:**"
   ]
  },
  {
   "cell_type": "code",
   "execution_count": null,
   "id": "725796c2",
   "metadata": {
    "pycharm": {
     "name": "#%%\n"
    }
   },
   "outputs": [],
   "source": [
    "#Erstelle hier eine mehrdimensionalen Arrays\n",
    "\n",
    "\n",
    "# Versuche hier ein paar Einträge der Arrays zu verändern\n"
   ]
  },
  {
   "cell_type": "markdown",
   "id": "2906dbcb",
   "metadata": {
    "pycharm": {
     "name": "#%% md\n"
    }
   },
   "source": [
    "#  Schleifen\n",
    "Schleifen werden häufig verwendet um Code-Blöcke immer wieder durchzugehen bis eine bestimmte Bedingung erfüllt ist.\n",
    "Außerdem eignen Sie sich auch stark dafür mit Listen/Arrays zu arbeiten um dabei die einzelnen Elemente durchzugehen.\n",
    "\n",
    "Python bietet zwei verschiedene Schleifen an. Einerseits die for-Schleife und andererseits die while-Schleife\n",
    "\n",
    "\n",
    "## For-Schlelife\n",
    "Die for-Schleife dient dazu über eine eine Sequenz zu iterieren. Dabei kann es sich um eine Zahlenreihe, ein Array, einen String, o.Ä. handeln.\n",
    "Der Prinzipielle Aufbau einer for-Schleife lautet wie folgt.\n",
    "\n",
    "```\n",
    "for i in range(0,100):\n",
    "    - Codeblock der bei jeder Iteration ausgeführt werden soll -\n",
    "```\n",
    "\n",
    "Dabei ist ``i`` die laufende Variable und wird bei jedem Schritt um +1 erhöht. Dabei wird von 0 bis 99 gezählt.\n",
    "\n",
    "Prinzipiell lassen sich auch andere Schrittgrößen verwirklichen, diese betrachten wir hier aber nicht.\n",
    "Mehr Informationen zu diesem Thema findest du unter https://www.w3schools.com/python/python_for_loops.asp .\n",
    "\n",
    "Probiere nun selber eine for-Schleife zu schreiben die von 0 bis 100 zählt. Dabei soll jeweils der Wert von i und\n",
    "die dazugehörige Quadratzahl ausgegeben werden.\n",
    "\n",
    "**code schreiben:**"
   ]
  },
  {
   "cell_type": "code",
   "execution_count": null,
   "id": "eccc9b86",
   "metadata": {
    "pycharm": {
     "name": "#%%\n"
    }
   },
   "outputs": [],
   "source": [
    " '''\n",
    " schreibe hier deine for-Schleife\n",
    " Konsolenausgaben kannst du mit dem Befehl print() umsetzen\n",
    " print(i) würde die Variable i ausgeben\n",
    " Es lassen sich auch mehrere Werte mit einem print() Befehl ausgeben\n",
    " Dafür trennt man die einzelnen Ausgaben mit einem Komma\n",
    " print('i ist: ', i, 'das Quadrat von i ist: ', q)\n",
    " '''\n",
    "\n",
    "\n"
   ]
  },
  {
   "cell_type": "markdown",
   "id": "b2b32031",
   "metadata": {
    "pycharm": {
     "name": "#%% md\n"
    }
   },
   "source": [
    "## While-Schleife\n",
    "Mit der while-Schleife wird ein Codeblock ausgeführt, solange eine Bedingung wahr ist.\n",
    "Der prinzipielle Aufbau einer while-Schleife ist wie folgt:\n",
    "\n",
    "```\n",
    "while (Bedingung):\n",
    "    - auszuführender Codeblock\n",
    "```\n",
    "\n",
    "Probieren nun selbst aus eine while-Schleife zu implementieren. Versuche eine schleife zu bauen, die einen Wert ``i``\n",
    "immer in der Konsole ausgibt und dann um 1 erhöht, solange i kleiner als 100 ist.\n",
    "\n",
    "**code schreiben:**"
   ]
  },
  {
   "cell_type": "code",
   "execution_count": null,
   "id": "1a04c2b5",
   "metadata": {
    "pycharm": {
     "name": "#%%\n"
    }
   },
   "outputs": [],
   "source": [
    "#definiere zunächst deine Laufvariable i\n",
    "\n",
    "\n",
    "#erstelle nun die while-Schleife\n",
    "\n"
   ]
  },
  {
   "cell_type": "markdown",
   "id": "6b9bb20b",
   "metadata": {
    "pycharm": {
     "name": "#%% md\n"
    }
   },
   "source": [
    "Anmerkungen:\n",
    "- Schleifen lassen sich mit dem Schlagwort ``break`` vorzeitig beenden.\n",
    "- Man muss aufpassen, dass Schleifen nicht unendlich dauern\n",
    "    - Die Obergrenze von i (oder der benutzten Laufvariable) muss festgelegt sein\n",
    "    - Die Bedingung der while-Schleife muss erfüllt werden können\n",
    "- eine while-Schleife kann auch so umfunkioniert werden, dass sie wie eine for-Schleife funktioniert"
   ]
  },
  {
   "cell_type": "markdown",
   "id": "081c756d",
   "metadata": {
    "pycharm": {
     "name": "#%% md\n"
    }
   },
   "source": [
    "# Funktionen\n",
    "Funktionen dienen dazu oft verwendete Codeblöcke zusammenzufassen, damit man sie einfach häufig benutzen kann.\n",
    "## Funktionsdefinition\n",
    "Zunächst muss man diese Code-Blöcke einmal definieren und gegebenenfalls die Inputs und Outputs festlegen.\n",
    "Dabei ist eine Funktion prinzipiell nach dem folgenden Schema aufgebaut:\n",
    "```\n",
    "def Funktionnsname(input1, input2, input3, ...):\n",
    "\n",
    "    - auszuführender Code -\n",
    "\n",
    "    return output1, output2, ...\n",
    "```\n",
    "- Funktionsnamen schreibt man klein (Konvention).\n",
    "- Der Code der beim Funktionsaufruf ausgeführt werden soll wird eingerückt geschrieben.\n",
    "- Die Anzahl der Inputs und der Outputs muss nicht identisch sein.\n",
    "- Die Inputs können verschiedene Datentypen haben.\n",
    "- Outputs werden hinter das Schlüsselwort ``return`` geschrieben.\n",
    "\n",
    "\n",
    "\n",
    "## Funktionsaufruf\n",
    "Die Funktion kann nun beliebig häufig mittels des Funktionsnamen aufgerufen werden.\n",
    "Beim Funktionsaufruf muss darauf geachtet werden, dass die richtige Anzahl und der richtige Typ von Input mitgegeben wird.\n",
    "\n",
    "Hier ein Beispiel:\n",
    "\n",
    "```\n",
    "def additionsFunktion(zahl1, zahl2):\n",
    "\n",
    "    return zahl1 + zahl2\n",
    "```\n",
    "\n",
    "mit dem Funktionsaufruf\n",
    "\n",
    "```\n",
    "additionsFunktion(1, 2)\n",
    "\n",
    "```\n",
    "\n",
    "\n",
    "Versuche nun selbst eine Funktion zu erstellen, die die Multiplikation von zwei Zahlen zurück gibt.\n",
    "\n",
    "**code schreiben:**"
   ]
  },
  {
   "cell_type": "code",
   "execution_count": null,
   "id": "2c957c3c",
   "metadata": {
    "pycharm": {
     "name": "#%%\n"
    }
   },
   "outputs": [],
   "source": [
    "# Definiere hier deine Funktion\n",
    "\n",
    "\n",
    "# Rufe nun hier die Funktion mit verschiedenen Zahlenkombinationen auf\n",
    "\n",
    "\n"
   ]
  }
 ],
 "metadata": {
  "kernelspec": {
   "display_name": "Python 3",
   "language": "python",
   "name": "python3"
  },
  "language_info": {
   "codemirror_mode": {
    "name": "ipython",
    "version": 3
   },
   "file_extension": ".py",
   "mimetype": "text/x-python",
   "name": "python",
   "nbconvert_exporter": "python",
   "pygments_lexer": "ipython3",
   "version": "3.7.7"
  }
 },
 "nbformat": 4,
 "nbformat_minor": 5
}